{
 "cells": [
  {
   "cell_type": "code",
   "execution_count": null,
   "metadata": {},
   "outputs": [],
   "source": [
    "# Importing numpy and matplotlib\n",
    "import numpy as np \n",
    "import matplotlib.pyplot as plt\n",
    "plt.style.use('fivethirtyeight')"
   ]
  },
  {
   "cell_type": "code",
   "execution_count": null,
   "metadata": {},
   "outputs": [],
   "source": [
    "# list files for reading\n",
    "old_pp_file = 'old_out_pp.dat'\n",
    "old_np_file = 'old_out_np.dat'\n",
    "new_pp_file = 'new_out_pp.dat'\n",
    "new_np_file = 'new_out_np.dat'\n",
    "# open files and read only a-e components\n",
    "old_pp_data = np.loadtxt(old_pp_file, dtype='complex',skiprows=1, usecols=(2,3,4,5,6), unpack=True)\n",
    "old_np_data = np.loadtxt(old_np_file, dtype='complex',skiprows=1, usecols=(2,3,4,5,6), unpack=True)\n",
    "new_pp_data = np.loadtxt(new_pp_file, dtype='complex',skiprows=1, usecols=(2,3,4,5,6), unpack=True)\n",
    "new_np_data = np.loadtxt(new_np_file, dtype='complex',skiprows=1, usecols=(2,3,4,5,6), unpack=True)\n",
    "# simple grid 0 to 126\n",
    "grid = np.linspace(0, len(old_pp_data[0])+1, num=126)"
   ]
  },
  {
   "cell_type": "code",
   "execution_count": null,
   "metadata": {},
   "outputs": [],
   "source": [
    "# # plot diff in a using the magnitude of complex number\n",
    "# a_diff = np.absolute(np.absolute(old_pp_data[0])-np.absolute(new_pp_data[0]))\n",
    "\n",
    "# #plt.scatter(grid,a_diff)\n",
    "# plt.plot(a_diff)\n",
    "# plt.title('a diff')\n",
    "# plt.show()"
   ]
  },
  {
   "cell_type": "code",
   "execution_count": null,
   "metadata": {},
   "outputs": [],
   "source": [
    "all_pp_old = sum(old_pp_data)\n",
    "all_pp_new = sum(new_pp_data)\n",
    "all_np_old = sum(old_np_data)\n",
    "all_np_new = sum(new_np_data)"
   ]
  },
  {
   "cell_type": "code",
   "execution_count": null,
   "metadata": {},
   "outputs": [],
   "source": [
    "# plot diff in a using the magnitude of complex number\n",
    "all_diff = np.absolute(np.absolute(all_pp_old)-np.absolute(all_pp_new))\n",
    "\n",
    "plt.plot(all_diff)\n",
    "plt.title('pp diff')\n",
    "plt.show()"
   ]
  },
  {
   "cell_type": "code",
   "execution_count": null,
   "metadata": {},
   "outputs": [],
   "source": [
    "plt.scatter(grid,all_diff)\n",
    "plt.title('pp diff')\n",
    "print(np.nanmax(all_diff))\n",
    "plt.ylim([0,np.nanmax(all_diff)+.1e-7])\n",
    "#plt.show()"
   ]
  },
  {
   "cell_type": "code",
   "execution_count": null,
   "metadata": {},
   "outputs": [],
   "source": [
    "# plot diff in a using the magnitude of complex number\n",
    "all_diff = np.absolute(np.absolute(all_np_old)-np.absolute(all_np_new))\n",
    "\n",
    "plt.plot(all_diff)\n",
    "plt.title('np diff')\n",
    "plt.show()\n"
   ]
  },
  {
   "cell_type": "code",
   "execution_count": null,
   "metadata": {},
   "outputs": [],
   "source": [
    "plt.scatter(grid,all_diff)\n",
    "plt.title('np diff')\n",
    "plt.ylim([0,np.nanmax(all_diff)+.1e-8])\n",
    "print(np.nanmax(all_diff))\n",
    "plt.show()"
   ]
  }
 ],
 "metadata": {
  "kernelspec": {
   "display_name": "Python 3",
   "language": "python",
   "name": "python3"
  },
  "language_info": {
   "codemirror_mode": {
    "name": "ipython",
    "version": 3
   },
   "file_extension": ".py",
   "mimetype": "text/x-python",
   "name": "python",
   "nbconvert_exporter": "python",
   "pygments_lexer": "ipython3",
   "version": "3.7.6"
  }
 },
 "nbformat": 4,
 "nbformat_minor": 2
}
