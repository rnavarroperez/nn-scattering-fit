{
 "cells": [
  {
   "cell_type": "code",
   "execution_count": 1,
   "id": "996b79c4",
   "metadata": {},
   "outputs": [],
   "source": [
    "import numpy as np\n",
    "import matplotlib.pyplot as plt\n",
    "from scipy.integrate import quad"
   ]
  },
  {
   "cell_type": "code",
   "execution_count": 2,
   "id": "0ad75fd2",
   "metadata": {},
   "outputs": [],
   "source": [
    "H_BAR = 197.3269804 #In units of MeV*fm\n",
    "M_PI = (2*139.57039 + 134.9768)/3 #In units of MeV\n",
    "DELTA_M = 293.1 #In units of MeV"
   ]
  },
  {
   "cell_type": "code",
   "execution_count": 3,
   "id": "2e4fcd0f",
   "metadata": {},
   "outputs": [],
   "source": [
    "def x(r):\n",
    "    return M_PI*r/H_BAR"
   ]
  },
  {
   "cell_type": "code",
   "execution_count": 4,
   "id": "3c7da50e",
   "metadata": {},
   "outputs": [],
   "source": [
    "def y(r):\n",
    "    return DELTA_M*r/H_BAR"
   ]
  },
  {
   "cell_type": "code",
   "execution_count": 5,
   "id": "15303c21",
   "metadata": {},
   "outputs": [],
   "source": [
    "def vf2(mu, r):\n",
    "    return mu**2/np.sqrt(mu**2 + 4*x(r)**2)*np.exp(-np.sqrt(mu**2 + 4*x(r)**2))"
   ]
  },
  {
   "cell_type": "code",
   "execution_count": 6,
   "id": "d2b1b927",
   "metadata": {},
   "outputs": [],
   "source": [
    "def vf1(mu, r):\n",
    "    return mu**2*vf2(mu, r)"
   ]
  },
  {
   "cell_type": "code",
   "execution_count": 7,
   "id": "cfcb99ef",
   "metadata": {},
   "outputs": [],
   "source": [
    "def vf3(mu, r):\n",
    "    return np.sqrt(mu**2 + 4*x(r)**2)*vf2(mu, r)"
   ]
  },
  {
   "cell_type": "code",
   "execution_count": 8,
   "id": "4538dbf3",
   "metadata": {},
   "outputs": [],
   "source": [
    "def vf4(mu, r):\n",
    "    return (2*x(r)**2 + mu**2 + 2*y(r)**2)**2/(mu**2 + 4*y(r)**2)*vf2(mu, r)"
   ]
  },
  {
   "cell_type": "code",
   "execution_count": 9,
   "id": "1c4b399d",
   "metadata": {},
   "outputs": [],
   "source": [
    "def vf5(mu, r):\n",
    "    return mu/np.sqrt(mu**2 + 4*x(r)**2)*np.exp(-np.sqrt(mu**2 + 4*x(r)**2))*np.arctan(mu/(2*y(r)))"
   ]
  },
  {
   "cell_type": "code",
   "execution_count": 10,
   "id": "99ef0c9f",
   "metadata": {},
   "outputs": [],
   "source": [
    "def vf6(mu, r):\n",
    "    return mu**2*vf5(mu, r)"
   ]
  },
  {
   "cell_type": "code",
   "execution_count": 11,
   "id": "14ed1f83",
   "metadata": {},
   "outputs": [],
   "source": [
    "def vf7(mu, r):\n",
    "    return mu**4*vf5(mu, r)"
   ]
  },
  {
   "cell_type": "code",
   "execution_count": 12,
   "id": "9105f31b",
   "metadata": {},
   "outputs": [],
   "source": [
    "def vf8(mu, r):\n",
    "    return mu**2*np.sqrt(mu**2 + 4*x(r)**2)*vf5(mu, r)"
   ]
  },
  {
   "cell_type": "code",
   "execution_count": 13,
   "id": "20e436fd",
   "metadata": {},
   "outputs": [],
   "source": [
    "def vf9(mu, r):\n",
    "    return np.sqrt(mu**2 + 4*x(r)**2)*vf5(mu, r)"
   ]
  },
  {
   "cell_type": "code",
   "execution_count": 14,
   "id": "4c443ffb",
   "metadata": {},
   "outputs": [
    {
     "data": {
      "image/png": "[encoded data removed]",
      "text/plain": [
       "<Figure size 432x288 with 1 Axes>"
      ]
     },
     "metadata": {
      "needs_background": "light"
     },
     "output_type": "display_data"
    }
   ],
   "source": [
    "mu = np.arange(0,30,0.1)\n",
    "for f in [vf1, vf2, vf3, vf4, vf5, vf6, vf7, vf8, vf9]:\n",
    "    plt.plot(mu, f(mu, 2.1))\n",
    "plt.show()"
   ]
  },
  {
   "cell_type": "code",
   "execution_count": 15,
   "id": "fa4a2234",
   "metadata": {},
   "outputs": [
    {
     "name": "stdout",
     "output_type": "stream",
     "text": [
      "0.1 (1.9903486695578718, 5.345660575256455e-10)\n",
      "2.1 (0.5763387371719357, 3.061228888387369e-10)\n",
      "4.1 (0.0750300449095397, 1.047540101536959e-10)\n",
      "6.1 (0.007558650172196092, 9.798588355593307e-12)\n",
      "8.1 (0.0006708889564274948, 2.081917956719368e-09)\n",
      "10.1 (5.521008775533834e-05, 2.2782439481533522e-10)\n",
      "12.1 (4.320647531197234e-06, 2.947215541810639e-10)\n"
     ]
    }
   ],
   "source": [
    "for r in np.arange(0.1,14.1,2):\n",
    "    I_inf = quad(vf3, 0, np.inf, args=(r))\n",
    "    print(r, I_inf)"
   ]
  },
  {
   "cell_type": "code",
   "execution_count": null,
   "id": "7f2c3a59",
   "metadata": {},
   "outputs": [],
   "source": []
  }
 ],
 "metadata": {
  "kernelspec": {
   "display_name": "Python 3 (ipykernel)",
   "language": "python",
   "name": "python3"
  },
  "language_info": {
   "codemirror_mode": {
    "name": "ipython",
    "version": 3
   },
   "file_extension": ".py",
   "mimetype": "text/x-python",
   "name": "python",
   "nbconvert_exporter": "python",
   "pygments_lexer": "ipython3",
   "version": "3.7.3"
  }
 },
 "nbformat": 4,
 "nbformat_minor": 5
}
