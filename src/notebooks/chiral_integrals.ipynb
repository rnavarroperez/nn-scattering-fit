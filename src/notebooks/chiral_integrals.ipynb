{
 "cells": [
  {
   "cell_type": "code",
   "execution_count": 1,
   "id": "9f0db043",
   "metadata": {},
   "outputs": [],
   "source": [
    "import numpy as np\n",
    "import matplotlib.pyplot as plt\n",
    "from scipy.integrate import quad"
   ]
  },
  {
   "cell_type": "code",
   "execution_count": 2,
   "id": "e3076867",
   "metadata": {},
   "outputs": [],
   "source": [
    "H_BAR = 197.3269804 #In units of MeV*fm\n",
    "M_PI = (2*139.57039 + 134.9768)/3 #In units of MeV\n",
    "DELTA_M = 293.1 #In units of MeV"
   ]
  },
  {
   "cell_type": "code",
   "execution_count": 3,
   "id": "ecb1edb8",
   "metadata": {},
   "outputs": [],
   "source": [
    "def x(r):\n",
    "    return M_PI*r/H_BAR"
   ]
  },
  {
   "cell_type": "code",
   "execution_count": 4,
   "id": "797d3dbc",
   "metadata": {},
   "outputs": [],
   "source": [
    "def y(r):\n",
    "    return DELTA_M*r/H_BAR"
   ]
  },
  {
   "cell_type": "code",
   "execution_count": 5,
   "id": "5f69fc77",
   "metadata": {},
   "outputs": [],
   "source": [
    "def vf2(mu, r):\n",
    "    return mu**2/np.sqrt(mu**2 + 4*x(r)**2)*np.exp(-np.sqrt(mu**2 + 4*x(r)**2))"
   ]
  },
  {
   "cell_type": "code",
   "execution_count": 6,
   "id": "263c6e86",
   "metadata": {},
   "outputs": [],
   "source": [
    "def vf1(mu, r):\n",
    "    return mu**2*vf2(mu, r)"
   ]
  },
  {
   "cell_type": "code",
   "execution_count": 7,
   "id": "e375fdb1",
   "metadata": {},
   "outputs": [],
   "source": [
    "def vf3(mu, r):\n",
    "    return np.sqrt(mu**2 + 4*x(r)**2)*vf2(mu, r)"
   ]
  },
  {
   "cell_type": "code",
   "execution_count": 8,
   "id": "9be857b6",
   "metadata": {},
   "outputs": [],
   "source": [
    "def vf4(mu, r):\n",
    "    return (2*x(r)**2 + mu**2 + 2*y(r)**2)**2/(mu**2 + 4*y(r)**2)*vf2(mu, r)"
   ]
  },
  {
   "cell_type": "code",
   "execution_count": 9,
   "id": "d2472aac",
   "metadata": {},
   "outputs": [],
   "source": [
    "def vf5(mu, r):\n",
    "    return mu/np.sqrt(mu**2 + 4*x(r)**2)*np.exp(-np.sqrt(mu**2 + 4*x(r)**2))*np.arctan(mu/(2*y(r)))"
   ]
  },
  {
   "cell_type": "code",
   "execution_count": 10,
   "id": "dfeb0e39",
   "metadata": {},
   "outputs": [],
   "source": [
    "def vf6(mu, r):\n",
    "    return mu**2*vf5(mu, r)"
   ]
  },
  {
   "cell_type": "code",
   "execution_count": 11,
   "id": "cbffe4b7",
   "metadata": {},
   "outputs": [],
   "source": [
    "def vf7(mu, r):\n",
    "    return mu**4*vf5(mu, r)"
   ]
  },
  {
   "cell_type": "code",
   "execution_count": 12,
   "id": "c37889ce",
   "metadata": {},
   "outputs": [],
   "source": [
    "def vf8(mu, r):\n",
    "    return mu**2*np.sqrt(mu**2 + 4*x(r)**2)*vf5(mu, r)"
   ]
  },
  {
   "cell_type": "code",
   "execution_count": 13,
   "id": "a169a725",
   "metadata": {},
   "outputs": [],
   "source": [
    "def vf9(mu, r):\n",
    "    return np.sqrt(mu**2 + 4*x(r)**2)*vf5(mu, r)"
   ]
  },
  {
   "cell_type": "code",
   "execution_count": 14,
   "id": "914b877d",
   "metadata": {},
   "outputs": [
    {
     "data": {
      "image/png": "[encoded data removed]",
      "text/plain": [
       "<Figure size 432x288 with 1 Axes>"
      ]
     },
     "metadata": {
      "needs_background": "light"
     },
     "output_type": "display_data"
    }
   ],
   "source": [
    "mu = np.arange(0,30,0.00001)\n",
    "for f in [vf5]:\n",
    "    plt.plot(mu, f(mu, 0.0078125))\n",
    "plt.show()"
   ]
  },
  {
   "cell_type": "code",
   "execution_count": 15,
   "id": "74d7276a",
   "metadata": {},
   "outputs": [
    {
     "name": "stdout",
     "output_type": "stream",
     "text": [
      "0.1 9.072342876947914e-11 5.345660575256455e-10\n",
      "2.1 7.83564324535746e-11 3.061228888387369e-10\n",
      "4.1 2.062341963871006e-10 1.047540101536959e-10\n",
      "6.1 2.8462189202715926e-11 9.798588355593307e-12\n",
      "8.1 1.2157407784478547e-11 2.081917956719368e-09\n",
      "10.1 4.2160764557818385e-12 2.2782439481533522e-10\n",
      "12.1 1.2107963540613316e-12 2.947215541810639e-10\n"
     ]
    }
   ],
   "source": [
    "for r in np.arange(0.1,14.1,2):\n",
    "    I_inf = quad(vf3, 0, np.inf, args=(r))\n",
    "    I_fin = quad(vf3, 0, 30, args=(r))\n",
    "    print(r, I_inf[0] - I_fin[0], I_inf[1])"
   ]
  }
 ],
 "metadata": {
  "kernelspec": {
   "display_name": "Python 3 (ipykernel)",
   "language": "python",
   "name": "python3"
  },
  "language_info": {
   "codemirror_mode": {
    "name": "ipython",
    "version": 3
   },
   "file_extension": ".py",
   "mimetype": "text/x-python",
   "name": "python",
   "nbconvert_exporter": "python",
   "pygments_lexer": "ipython3",
   "version": "3.7.3"
  }
 },
 "nbformat": 4,
 "nbformat_minor": 5
}
